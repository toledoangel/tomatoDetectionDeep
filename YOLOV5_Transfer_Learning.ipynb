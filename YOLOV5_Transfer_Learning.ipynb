{
  "nbformat": 4,
  "nbformat_minor": 0,
  "metadata": {
    "colab": {
      "provenance": [],
      "authorship_tag": "ABX9TyN2x7Pur+9Z8FZ+OJqx2+VO",
      "include_colab_link": true
    },
    "kernelspec": {
      "name": "python3",
      "display_name": "Python 3"
    },
    "language_info": {
      "name": "python"
    }
  },
  "cells": [
    {
      "cell_type": "markdown",
      "metadata": {
        "id": "view-in-github",
        "colab_type": "text"
      },
      "source": [
        "<a href=\"https://colab.research.google.com/github/toledoangel/tomatoDetectionDeep/blob/main/YOLOV5_Transfer_Learning.ipynb\" target=\"_parent\"><img src=\"https://colab.research.google.com/assets/colab-badge.svg\" alt=\"Open In Colab\"/></a>"
      ]
    },
    {
      "cell_type": "markdown",
      "source": [
        "# **Transfer Learning YOLOV5**\n",
        "\n",
        "_________________________________________________________________________________________________________________________________________________________________________________________________________\n",
        "Angel Toledo Flores<br>\n",
        "Ingeniero Mecánico Agrícola/Ingeniero en Sistemas Computacionales.<br>\n",
        "**E-mail**: contactoangeltoledo@gmail.com<br>\n",
        " [Linkedin profile](https://www.linkedin.com/in/angel-toledo/) | [Portafolio de proyectos](https://resume.ingesaurio.com/) <br> \n"
      ],
      "metadata": {
        "id": "hEchdJCOBDi2"
      }
    },
    {
      "cell_type": "markdown",
      "source": [
        "# Instalación de YOLOV5"
      ],
      "metadata": {
        "id": "dcAjDg3bBGnm"
      }
    },
    {
      "cell_type": "code",
      "execution_count": null,
      "metadata": {
        "id": "KvW1CkDuAhb6"
      },
      "outputs": [],
      "source": [
        "!git clone https://github.com/ultralytics/yolov5  # clone\n",
        "%cd yolov5\n",
        "%pip install -qr requirements.txt  # install\n",
        "\n",
        "import torch\n",
        "import utils\n",
        "display = utils.notebook_init()  # checks"
      ]
    },
    {
      "cell_type": "markdown",
      "source": [
        "# Inferencia"
      ],
      "metadata": {
        "id": "ViGimPcUBjYw"
      }
    },
    {
      "cell_type": "markdown",
      "source": [
        "\n",
        "\n",
        "```\n",
        "detect.py\n",
        "``` \n",
        "Para los pesos entrenados previamente, esto puede servir para confirmar que los módulos funcionan y utilizar los mismos comandos para su modelo entrenado. https://github.com/ultralytics/yolov5/releases\n",
        "\n",
        "\n",
        "```\n",
        "python detect.py --source 0 #webacm\n",
        "                          img.jpg #image\n",
        "                          vid.mp4 #video\n",
        "                          path/ #directory\n",
        "                          path/*.jpg #glob\n",
        "                          \"https:youtube.be/algo\" #Youtube Video\n",
        "                          \"rtsp://example.com/media.mp4\" #RTSP, RTM, HTTP Steam\n",
        "```\n",
        "\n",
        "\n"
      ],
      "metadata": {
        "id": "lWq8lGFTBlPe"
      }
    },
    {
      "cell_type": "code",
      "source": [
        "!python detect.py --weights yolov5s.pt --img 640 --conf 0.25 --source data/images\n",
        "display.Image(filename='runs/detec/exp/zidane.jpg', width=600)"
      ],
      "metadata": {
        "id": "KNXM5aAEBHxv"
      },
      "execution_count": null,
      "outputs": []
    },
    {
      "cell_type": "markdown",
      "source": [
        "# Preprocesamiento de datos"
      ],
      "metadata": {
        "id": "gKDRXuckEZ_i"
      }
    },
    {
      "cell_type": "markdown",
      "source": [
        "Se requieren las etiquetas de datos en un .txt de la forma \n",
        "\n",
        "\n",
        "```\n",
        "<object class id> <x> <y> <width> <height>\n",
        "```\n",
        "<br>\n",
        "Se recomienda dividir el dataset en 80% train 20% test\n",
        "<br>\n",
        "En un archivo personalizado .yaml se necesita los siguiente\n",
        "\n",
        "\n",
        "```\n",
        "train: (Complete path to dataset train folder)\n",
        "test: (Complete path to dataset test folder) \n",
        "valid: (Complete path to dataset valid folder)\n",
        "#Classes\n",
        "nc: 1 # replace according to your number of classes\n",
        "#classes names\n",
        "#replace all class names list with your classes names\n",
        "names: ['person', 'etiqueta 2', 'etiqueta x'] \n",
        "```\n"
      ],
      "metadata": {
        "id": "7Ki0oqXJEc3R"
      }
    },
    {
      "cell_type": "markdown",
      "source": [
        "# Train"
      ],
      "metadata": {
        "id": "IBAOBA5hElPz"
      }
    },
    {
      "cell_type": "code",
      "source": [
        "# Tensorboard  (optional)\n",
        "%load_ext tensorboard\n",
        "%tensorboard --logdir runs/train"
      ],
      "metadata": {
        "id": "iHbWNibpEmcx"
      },
      "execution_count": null,
      "outputs": []
    },
    {
      "cell_type": "code",
      "source": [
        "# Weights & Biases  (optional)\n",
        "%pip install -q wandb\n",
        "import wandb\n",
        "wandb.login()"
      ],
      "metadata": {
        "id": "MqE79qKnEoLJ"
      },
      "execution_count": null,
      "outputs": []
    },
    {
      "cell_type": "code",
      "source": [
        "!python train.py --weights yolov7.pt --data \"data/custom.yaml\" --workers 4 --batch-size 4 --img 416 --cfg cfg/training/yolov7.yaml --name yolov7 --hyp data/hyp.scratch.p5.yaml --epochs 50"
      ],
      "metadata": {
        "id": "3BhcgJrOEprB"
      },
      "execution_count": null,
      "outputs": []
    },
    {
      "cell_type": "markdown",
      "source": [
        "# Coco eval y test"
      ],
      "metadata": {
        "id": "F-LwbUAvGqUk"
      }
    },
    {
      "cell_type": "code",
      "source": [
        "# val\n",
        "!python val.py --weights modelo_entrenado.pt --data val.yaml --img 640 --iou 0.65 --half"
      ],
      "metadata": {
        "id": "0fzvLocGGrrD"
      },
      "execution_count": null,
      "outputs": []
    },
    {
      "cell_type": "code",
      "source": [
        "# Test\n",
        "!python val.py --weights modelo_entrenado.pt --data test.yaml --img 640 --iou 0.65 --half --task test"
      ],
      "metadata": {
        "id": "0Mb46mFiGucu"
      },
      "execution_count": null,
      "outputs": []
    },
    {
      "cell_type": "markdown",
      "source": [
        "# Visualize"
      ],
      "metadata": {
        "id": "rvVDnhsJG2LH"
      }
    },
    {
      "cell_type": "markdown",
      "source": [
        "Todos los resultados se registran por defecto en `runs/train`, con un nuevo directorio de experimentos creado para cada nuevo entrenamiento como `runs/train/exp2`, `runs/train/exp3`, etc. Vea los jpgs de train y val para ver los mosaicos, las etiquetas, las predicciones y los efectos de aumento. Tenga en cuenta que para el entrenamiento se utiliza un Ultralytics Mosaic Dataloader (mostrado abajo), que combina 4 imágenes en 1 mosaico durante el entrenamiento.\n",
        "\n",
        "\n",
        "> <img src=\"https://user-images.githubusercontent.com/26833433/131255960-b536647f-7c61-4f60-bbc5-cb2544d71b2a.jpg\" width=\"700\">  \n",
        "`train_batch0.jpg` shows train batch 0 mosaics and labels\n",
        "\n",
        "> <img src=\"https://user-images.githubusercontent.com/26833433/131256748-603cafc7-55d1-4e58-ab26-83657761aed9.jpg\" width=\"700\">  \n",
        "`test_batch0_labels.jpg` shows val batch 0 labels\n",
        "\n",
        "> <img src=\"https://user-images.githubusercontent.com/26833433/131256752-3f25d7a5-7b0f-4bb3-ab78-46343c3800fe.jpg\" width=\"700\">  \n",
        "`test_batch0_pred.jpg` shows val batch 0 _predictions_"
      ],
      "metadata": {
        "id": "sFNxNF0cG4cY"
      }
    }
  ]
}