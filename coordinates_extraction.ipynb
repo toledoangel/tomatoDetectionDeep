{
  "nbformat": 4,
  "nbformat_minor": 0,
  "metadata": {
    "colab": {
      "name": "coordinates_extraction.ipynb",
      "provenance": [],
      "collapsed_sections": []
    },
    "kernelspec": {
      "name": "python3",
      "display_name": "Python 3"
    },
    "language_info": {
      "name": "python"
    }
  },
  "cells": [
    {
      "cell_type": "markdown",
      "source": [
        "# Función para extraer las coordenadas de xml y exporta a csv"
      ],
      "metadata": {
        "id": "v180Pwokra08"
      }
    },
    {
      "cell_type": "code",
      "execution_count": null,
      "metadata": {
        "id": "5CnCYKS8YBDL",
        "colab": {
          "base_uri": "https://localhost:8080/"
        },
        "outputId": "8bea4a98-0288-42bc-82ea-b5295cb0ec35"
      },
      "outputs": [
        {
          "output_type": "stream",
          "name": "stdout",
          "text": [
            "Not connected to a GPU\n"
          ]
        }
      ],
      "source": [
        "from google.colab import drive\n",
        "from google.colab import files\n",
        "gpu_info = !nvidia-smi\n",
        "gpu_info = '\\n'.join(gpu_info)\n",
        "if gpu_info.find('failed') >= 0:\n",
        "  print('Not connected to a GPU')\n",
        "else:\n",
        "  print(gpu_info)\n",
        "  \n",
        "\n",
        "import xml.etree.ElementTree as ET\n",
        "import csv\n",
        "import pandas \n",
        "import os"
      ]
    },
    {
      "cell_type": "code",
      "source": [
        "#Aceso drive\n",
        "from google.colab import drive\n",
        "drive.mount('/content/drive')"
      ],
      "metadata": {
        "colab": {
          "base_uri": "https://localhost:8080/"
        },
        "id": "z2b6CUAQnq9X",
        "outputId": "d679e4be-5c4c-42c0-f5a8-c8efa440a560"
      },
      "execution_count": null,
      "outputs": [
        {
          "output_type": "stream",
          "name": "stdout",
          "text": [
            "Mounted at /content/drive\n"
          ]
        }
      ]
    },
    {
      "cell_type": "code",
      "source": [
        "\n",
        "DATASET_DIR = \"/content/drive/MyDrive/Tomato_Weed_Detection/almacen\"\n",
        "ANNOTATIONS_FILE = \"/content/drive/MyDrive/Tomato_Weed_Detection/anotations.csv\" \n",
        "CLASSES_FILE = \"/content/drive/MyDrive/Tomato_Weed_Detection/clases.csv\" "
      ],
      "metadata": {
        "id": "YU3y2UE4Y_9u"
      },
      "execution_count": null,
      "outputs": []
    },
    {
      "cell_type": "code",
      "source": [
        "annotations = []\n",
        "classes = set([])\n",
        "for roots, dirs, file in os.walk(DATASET_DIR, topdown=False):\n",
        "  for xml_file in [f for f in os.listdir(roots) if f.endswith(\".xml\")]:\n",
        "    tree = ET.parse(os.path.join(roots, xml_file))\n",
        "    root = tree.getroot()\n",
        "    file_name = None\n",
        "    for elem in root:\n",
        "      if elem.tag == 'filename':\n",
        "        file_name = os.path.join(roots, elem.text)\n",
        "\n",
        "      if elem.tag == 'object':\n",
        "        obj_name = None\n",
        "        coords = []\n",
        "        for subelem in elem:\n",
        "          if subelem.tag == 'name':\n",
        "            obj_name = subelem.text\n",
        "          if subelem.tag == 'bndbox':\n",
        "            xmin = \"\"\n",
        "            xmax = \"\"\n",
        "            ymin = \"\"\n",
        "            ymax = \"\"\n",
        "            for subsubelem in subelem:\n",
        "              f = float(subsubelem.text)\n",
        "              i = int(f)\n",
        "              if subsubelem.tag == \"xmin\":\n",
        "                xmin = str(i)\n",
        "              if subsubelem.tag == \"xmax\":\n",
        "                xmax = str(i)\n",
        "              if subsubelem.tag == \"ymin\":\n",
        "                ymin = str(i)\n",
        "              if subsubelem.tag == \"ymax\":\n",
        "                ymax = str(i)\n",
        "            \n",
        "            coords.append(xmin)\n",
        "            coords.append(ymin)\n",
        "            coords.append(xmax)\n",
        "            coords.append(ymax)\n",
        "              \n",
        "        item = [file_name] + coords + [obj_name]\n",
        "        annotations.append(item)\n",
        "        classes.add(obj_name)\n",
        "\n",
        "\n",
        "print('Etiquetas listass')"
      ],
      "metadata": {
        "id": "OEuCskcUYZ59",
        "outputId": "91393170-bfaf-4bd7-83c2-2dfdb9159416",
        "colab": {
          "base_uri": "https://localhost:8080/"
        }
      },
      "execution_count": null,
      "outputs": [
        {
          "output_type": "stream",
          "name": "stdout",
          "text": [
            "Etiquetas listass\n"
          ]
        }
      ]
    },
    {
      "cell_type": "code",
      "source": [
        "#write anotations\n",
        "with open(ANNOTATIONS_FILE, 'w') as f:\n",
        "  writer = csv.writer(f)\n",
        "  writer.writerows(annotations)"
      ],
      "metadata": {
        "id": "7MJ6ebJUZR-O"
      },
      "execution_count": null,
      "outputs": []
    },
    {
      "cell_type": "code",
      "source": [
        "#write clases\n",
        "with open(CLASSES_FILE, 'w') as f:\n",
        "  for i, line in enumerate(classes):\n",
        "    f.write('{},{}\\n'.format(line,i))"
      ],
      "metadata": {
        "id": "Vpyay1kUZUPP"
      },
      "execution_count": null,
      "outputs": []
    },
    {
      "cell_type": "code",
      "source": [
        "df = pandas.read_csv(ANNOTATIONS_FILE)\n",
        "df.columns\n",
        "df.iloc[:,5:6].value_counts()"
      ],
      "metadata": {
        "id": "E4spbd1nYeVE",
        "colab": {
          "base_uri": "https://localhost:8080/"
        },
        "outputId": "6c118572-671b-4c61-e3b2-b8043084be83"
      },
      "execution_count": null,
      "outputs": [
        {
          "output_type": "execute_result",
          "data": {
            "text/plain": [
              "LYPES    \n",
              "SOLNI        1188\n",
              "CYP_CYPRO     941\n",
              "POROL         255\n",
              "NCI           231\n",
              "LYPES         165\n",
              "ECHCG         153\n",
              "SETIT          56\n",
              "dtype: int64"
            ]
          },
          "metadata": {},
          "execution_count": 7
        }
      ]
    }
  ]
}